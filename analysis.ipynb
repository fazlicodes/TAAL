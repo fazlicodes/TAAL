{
 "cells": [
  {
   "cell_type": "code",
   "execution_count": 1,
   "metadata": {},
   "outputs": [],
   "source": [
    "import pandas as pd\n",
    "import scipy.io"
   ]
  },
  {
   "cell_type": "code",
   "execution_count": 2,
   "metadata": {},
   "outputs": [
    {
     "name": "stdout",
     "output_type": "stream",
     "text": [
      "dict_keys(['__header__', '__version__', '__globals__', 'labels'])\n"
     ]
    }
   ],
   "source": [
    "# Load the .mat file\n",
    "mat_data = scipy.io.loadmat('/fsx/homes/Mohamed.Imam@mbzuai.ac.ae/projects/TAAL/data/oxford_flowers/imagelabels.mat')\n",
    "\n",
    "# Display the keys (variables) in the .mat file\n",
    "print(mat_data.keys())"
   ]
  },
  {
   "cell_type": "code",
   "execution_count": 6,
   "metadata": {},
   "outputs": [
    {
     "name": "stdout",
     "output_type": "stream",
     "text": [
      "[[77 77 77 ... 62 62 62]]\n"
     ]
    }
   ],
   "source": [
    "print(mat_data['labels'])"
   ]
  },
  {
   "cell_type": "code",
   "execution_count": 2,
   "metadata": {},
   "outputs": [
    {
     "name": "stdout",
     "output_type": "stream",
     "text": [
      "Index(['Unnamed: 0', 'dataset', 'img_path', 'pred1', 'pred2', 'pred3', 'prob1',\n",
      "       'prob2', 'prob3', 'correct', 'target'],\n",
      "      dtype='object')\n",
      "(1281167, 11)\n"
     ]
    }
   ],
   "source": [
    "# df = pd.read_csv('/fsx/homes/Mohamed.Imam@mbzuai.ac.ae/projects/TAAL/data/oxford_flowers/oxford_flowers_pseudo_full_16shot.csv')\n",
    "# df = pd.read_csv('/fsx/homes/Mohamed.Imam@mbzuai.ac.ae/projects/TAAL/data/eurosat/eurosat_training_set_zs_preds.csv')\n",
    "# df = pd.read_csv('/fsx/homes/Mohamed.Imam@mbzuai.ac.ae/projects/TAAL/data/cifar100/cifar100_training_set_zs_preds.csv')\n",
    "df = pd.read_csv('/fsx/homes/Mohamed.Imam@mbzuai.ac.ae/projects/TAAL/data/imagenet/imagenet_training_set_zs_preds.csv')\n",
    "print(df.columns)\n",
    "print(df.shape) "
   ]
  },
  {
   "cell_type": "code",
   "execution_count": 3,
   "metadata": {},
   "outputs": [],
   "source": [
    "# # df.hist(column='prob1', bins=102)\n",
    "# # df[df['correct'] == 1].hist(column='prob1', bins=102)\n",
    "# df2[df2['pred2'] == df2['target']].hist(column='prob2', bins=102)"
   ]
  },
  {
   "cell_type": "code",
   "execution_count": 4,
   "metadata": {},
   "outputs": [],
   "source": [
    "\n",
    "\n",
    "def select_top_k_probs(pred_df, k):\n",
    "    pseudo_df = pd.DataFrame()\n",
    "    for pred_label in set(pred_df.target):\n",
    "        sub_label_df = pred_df.loc[(pred_df.pred1 == pred_label)]\n",
    "        sub_label_df = sub_label_df.sort_values('prob1', ascending=False).iloc[0:k]\n",
    "\n",
    "\n",
    "        if len(sub_label_df) == 0:\n",
    "            sub_label_df = pred_df.loc[(pred_df.pred2 == pred_label)]\n",
    "            sub_label_df = sub_label_df.sort_values('prob2', ascending=False).iloc[0:k]\n",
    "            sub_label_df['pred1'] = sub_label_df['pred2']\n",
    "            print(f'For label {pred_label}, {len(sub_label_df)} rows selected')\n",
    "            if len(sub_label_df) == 0:\n",
    "                sub_label_df = pred_df.loc[(pred_df.pred3 == pred_label)]\n",
    "                sub_label_df = sub_label_df.sort_values('prob3', ascending=False).iloc[0:k]\n",
    "                sub_label_df['pred1'] = sub_label_df['pred3']\n",
    "                print(f'For label {pred_label}, {len(sub_label_df)} rows selected')\n",
    "                if len(sub_label_df) == 0:\n",
    "                    raise NotImplementedError\n",
    "        pseudo_df = pd.concat((pseudo_df, sub_label_df))\n",
    "    return pseudo_df\n"
   ]
  },
  {
   "cell_type": "code",
   "execution_count": 5,
   "metadata": {},
   "outputs": [],
   "source": [
    "\n",
    "\n",
    "def always_select_top_k_probs(pred_df, k):\n",
    "    pseudo_df = pd.DataFrame()\n",
    "    for pred_label in set(pred_df.target):\n",
    "        sub_label_df = pred_df.loc[(pred_df.pred1 == pred_label)]\n",
    "        sub_label_df = sub_label_df.sort_values('prob1', ascending=False).iloc[0:k]\n",
    "\n",
    "        if len(sub_label_df) < k:\n",
    "            required = k - len(sub_label_df)\n",
    "            sub_label_df_2 = pred_df.loc[(pred_df.pred2 == pred_label)]\n",
    "            sub_label_df_2 = sub_label_df_2.sort_values('prob2', ascending=False).iloc[0:(required)]\n",
    "            sub_label_df = pd.concat((sub_label_df, sub_label_df_2))\n",
    "            sub_label_df['pred1'] = sub_label_df['pred2']\n",
    "            # print(f'For label {pred_label}, {len(sub_label_df)} rows selected')\n",
    "\n",
    "            if len(sub_label_df) < k:\n",
    "                required = k - len(sub_label_df)\n",
    "                sub_label_df_3 = pred_df.loc[(pred_df.pred3 == pred_label)]\n",
    "                sub_label_df_3 = sub_label_df_3.sort_values('prob3', ascending=False).iloc[0:required]\n",
    "                sub_label_df = pd.concat((sub_label_df, sub_label_df_3))\n",
    "                sub_label_df['pred1'] = sub_label_df['pred3']\n",
    "                # print(f'For label {pred_label}, {len(sub_label_df)} rows selected')\n",
    "                if len(sub_label_df) == 0:\n",
    "                    raise NotImplementedError\n",
    "        pseudo_df = pd.concat((pseudo_df, sub_label_df))\n",
    "    return pseudo_df\n"
   ]
  },
  {
   "cell_type": "code",
   "execution_count": 16,
   "metadata": {},
   "outputs": [],
   "source": [
    "\n",
    "def select_top_k_probs_drop_dups(pred_df, k):\n",
    "    pseudo_df = pd.DataFrame()\n",
    "    for pred_label in set(pred_df.target):\n",
    "        sub_label_df = pred_df.loc[(pred_df.pred1 == pred_label)]\n",
    "        sub_label_df = sub_label_df.sort_values('prob1', ascending=False).iloc[0:k]\n",
    "\n",
    "\n",
    "        if len(sub_label_df) == 0:\n",
    "            sub_label_df = pred_df.loc[(pred_df.pred2 == pred_label)]\n",
    "            sub_label_df = sub_label_df.sort_values('prob2', ascending=False).iloc[0:k]\n",
    "            sub_label_df['pred1'] = sub_label_df['pred2']\n",
    "            print(f'For label {pred_label}, {len(sub_label_df)} rows selected')\n",
    "            if len(sub_label_df) == 0:\n",
    "                sub_label_df = pred_df.loc[(pred_df.pred3 == pred_label)]\n",
    "                sub_label_df = sub_label_df.sort_values('prob3', ascending=False).iloc[0:k]\n",
    "                sub_label_df['pred1'] = sub_label_df['pred3']\n",
    "                print(f'For label {pred_label}, {len(sub_label_df)} rows selected')\n",
    "                if len(sub_label_df) == 0:\n",
    "                    raise NotImplementedError\n",
    "        pseudo_df = pd.concat((pseudo_df, sub_label_df))\n",
    "    pseudo_df.drop_duplicates(subset='img_path', inplace=True)\n",
    "    return pseudo_df"
   ]
  },
  {
   "cell_type": "code",
   "execution_count": null,
   "metadata": {},
   "outputs": [],
   "source": [
    "\n",
    "def select_top_k_probs_most_confident(pred_df, k):\n",
    "    pseudo_df = pd.DataFrame()\n",
    "    pred_df['prob1_prob2_diff'] = pred_df['prob1'] - pred_df['prob2']\n",
    "    for pred_label in set(pred_df.target):\n",
    "        sub_label_df = pred_df.loc[(pred_df.pred1 == pred_label)]\n",
    "        # sub_label_df = sub_label_df.sort_values('prob1', ascending=False).iloc[0:k]\n",
    "        sub_label_df = sub_label_df.sort_values(by = ['prob1_prob2_diff', 'prob1'], ascending = [False, False]).iloc[0:k]\n",
    "\n",
    "        if len(sub_label_df) == 0:\n",
    "            sub_label_df = pred_df.loc[(pred_df.pred2 == pred_label)]\n",
    "            sub_label_df = sub_label_df.sort_values('prob2', ascending=False).iloc[0:k]\n",
    "            sub_label_df['pred1'] = sub_label_df['pred2']\n",
    "            print(f'For label {pred_label}, {len(sub_label_df)} rows selected')\n",
    "            if len(sub_label_df) == 0:\n",
    "                sub_label_df = pred_df.loc[(pred_df.pred3 == pred_label)]\n",
    "                sub_label_df = sub_label_df.sort_values('prob3', ascending=False).iloc[0:k]\n",
    "                sub_label_df['pred1'] = sub_label_df['pred3']\n",
    "                print(f'For label {pred_label}, {len(sub_label_df)} rows selected')\n",
    "                if len(sub_label_df) == 0:\n",
    "                    raise NotImplementedError\n",
    "        pseudo_df = pd.concat((pseudo_df, sub_label_df))\n",
    "    return pseudo_df\n"
   ]
  },
  {
   "cell_type": "code",
   "execution_count": 18,
   "metadata": {},
   "outputs": [],
   "source": [
    "\n",
    "def select_top_k_probs_min_max(pred_df, k):\n",
    "    pseudo_df = pd.DataFrame()\n",
    "    grouped_dict = pred_df.groupby('pred1')['prob1'].mean().to_dict()\n",
    "    pred_df['avg']=pred_df['pred1'].map(grouped_dict)\n",
    "    pred_df['avg'] = pred_df['avg']*0.99\n",
    "    pred_df['prob1_prob2_diff'] = pred_df['prob1'] - pred_df['prob2']\n",
    "    for pred_label in set(pred_df.target):\n",
    "        sub_label_df = pred_df.loc[(pred_df.pred1 == pred_label) & (pred_df.prob1 >= pred_df.avg)]\n",
    "        sub_label_df = sub_label_df.sort_values('prob1', ascending=False).iloc[0:k]\n",
    "\n",
    "        if (len(sub_label_df) < k):\n",
    "            rows_to_select = len(k//2)\n",
    "        elif (len(sub_label_df) >= k):\n",
    "            rows_to_select = k\n",
    "        sub_label_df = sub_label_df.head(rows_to_select)\n",
    "        pseudo_df = pd.concat((pseudo_df, sub_label_df))\n",
    "    return pseudo_df\n"
   ]
  },
  {
   "cell_type": "code",
   "execution_count": 7,
   "metadata": {},
   "outputs": [],
   "source": [
    "def top_3_accuracy(pred_df):\n",
    "    return (pred_df[pred_df['pred1'] == pred_df['target']].shape[0] + \n",
    "            pred_df[pred_df['pred2'] == pred_df['target']].shape[0] + \n",
    "            pred_df[pred_df['pred3'] == pred_df['target']].shape[0]) / pred_df.shape[0]\n",
    "\n",
    "def top_1_accuracy(pred_df):\n",
    "    return (pred_df[pred_df['pred1'] == pred_df['target']].shape[0] / pred_df.shape[0])"
   ]
  },
  {
   "cell_type": "code",
   "execution_count": 15,
   "metadata": {},
   "outputs": [
    {
     "name": "stdout",
     "output_type": "stream",
     "text": [
      "0.74690625\n",
      "0.68803125\n",
      "\n",
      "0.7445625\n",
      "0.6876875\n",
      "\n"
     ]
    }
   ],
   "source": [
    "nos_pls = 32\n",
    "\n",
    "# pseudo_preds = select_top_k_probs(df, nos_pls)\n",
    "# print(top_3_accuracy(pseudo_preds))\n",
    "# print(top_1_accuracy(pseudo_preds))\n",
    "# print()\n",
    "pseudo_preds = select_top_k_probs_drop_dups(df, nos_pls)\n",
    "print(top_3_accuracy(pseudo_preds))\n",
    "print(top_1_accuracy(pseudo_preds))\n",
    "print()"
   ]
  },
  {
   "cell_type": "code",
   "execution_count": 19,
   "metadata": {},
   "outputs": [
    {
     "name": "stdout",
     "output_type": "stream",
     "text": [
      "0.74728125\n",
      "0.6880625\n",
      "\n"
     ]
    }
   ],
   "source": [
    "pseudo_preds = select_top_k_probs_min_max(df, nos_pls)\n",
    "print(top_3_accuracy(pseudo_preds))\n",
    "print(top_1_accuracy(pseudo_preds))\n",
    "print()"
   ]
  },
  {
   "cell_type": "code",
   "execution_count": 12,
   "metadata": {},
   "outputs": [
    {
     "data": {
      "text/plain": [
       "canna lily                  16\n",
       "siam tulip                  16\n",
       "english marigold            16\n",
       "colt's foot                 16\n",
       "great masterwort            16\n",
       "                            ..\n",
       "silverbush                  11\n",
       "oxeye daisy                 10\n",
       "prince of wales feathers     6\n",
       "ball moss                    5\n",
       "watercress                   1\n",
       "Name: pred1, Length: 102, dtype: int64"
      ]
     },
     "execution_count": 12,
     "metadata": {},
     "output_type": "execute_result"
    }
   ],
   "source": [
    "pseudo_preds['pred1'].value_counts()"
   ]
  },
  {
   "cell_type": "code",
   "execution_count": 48,
   "metadata": {},
   "outputs": [
    {
     "data": {
      "text/plain": [
       "<Axes: >"
      ]
     },
     "execution_count": 48,
     "metadata": {},
     "output_type": "execute_result"
    },
    {
     "data": {
      "image/png": "[encoded data removed]",
      "text/plain": [
       "<Figure size 640x480 with 1 Axes>"
      ]
     },
     "metadata": {},
     "output_type": "display_data"
    }
   ],
   "source": [
    "df2['target'].hist(bins=102)"
   ]
  },
  {
   "cell_type": "code",
   "execution_count": null,
   "metadata": {},
   "outputs": [],
   "source": []
  }
 ],
 "metadata": {
  "kernelspec": {
   "display_name": "alp_rs",
   "language": "python",
   "name": "python3"
  },
  "language_info": {
   "codemirror_mode": {
    "name": "ipython",
    "version": 3
   },
   "file_extension": ".py",
   "mimetype": "text/x-python",
   "name": "python",
   "nbconvert_exporter": "python",
   "pygments_lexer": "ipython3",
   "version": "3.8.8"
  }
 },
 "nbformat": 4,
 "nbformat_minor": 2
}
